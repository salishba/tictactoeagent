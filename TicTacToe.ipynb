{
 "cells": [
  {
   "cell_type": "code",
   "execution_count": 3,
   "id": "7153c069-542f-4cd1-b6bf-8d3ecf4e7a88",
   "metadata": {},
   "outputs": [
    {
     "name": "stdout",
     "output_type": "stream",
     "text": [
      "\n",
      "   |   |  \n",
      "---+---+---\n",
      "   |   |  \n",
      "---+---+---\n",
      "   |   |  \n",
      "\n"
     ]
    },
    {
     "name": "stdin",
     "output_type": "stream",
     "text": [
      "Enter your move (0-8):  0\n"
     ]
    },
    {
     "name": "stdout",
     "output_type": "stream",
     "text": [
      "\n",
      " O |   |  \n",
      "---+---+---\n",
      "   |   |  \n",
      "---+---+---\n",
      "   |   |  \n",
      "\n",
      "Minimax AI took 0.1857 seconds to make a move\n",
      "\n",
      " O |   |  \n",
      "---+---+---\n",
      "   | X |  \n",
      "---+---+---\n",
      "   |   |  \n",
      "\n"
     ]
    },
    {
     "name": "stdin",
     "output_type": "stream",
     "text": [
      "Enter your move (0-8):  2\n"
     ]
    },
    {
     "name": "stdout",
     "output_type": "stream",
     "text": [
      "\n",
      " O |   | O\n",
      "---+---+---\n",
      "   | X |  \n",
      "---+---+---\n",
      "   |   |  \n",
      "\n",
      "Minimax AI took 0.0032 seconds to make a move\n",
      "\n",
      " O | X | O\n",
      "---+---+---\n",
      "   | X |  \n",
      "---+---+---\n",
      "   |   |  \n",
      "\n"
     ]
    },
    {
     "name": "stdin",
     "output_type": "stream",
     "text": [
      "Enter your move (0-8):  7\n"
     ]
    },
    {
     "name": "stdout",
     "output_type": "stream",
     "text": [
      "\n",
      " O | X | O\n",
      "---+---+---\n",
      "   | X |  \n",
      "---+---+---\n",
      "   | O |  \n",
      "\n",
      "Minimax AI took 0.0000 seconds to make a move\n",
      "\n",
      " O | X | O\n",
      "---+---+---\n",
      " X | X |  \n",
      "---+---+---\n",
      "   | O |  \n",
      "\n"
     ]
    },
    {
     "name": "stdin",
     "output_type": "stream",
     "text": [
      "Enter your move (0-8):  5\n"
     ]
    },
    {
     "name": "stdout",
     "output_type": "stream",
     "text": [
      "\n",
      " O | X | O\n",
      "---+---+---\n",
      " X | X | O\n",
      "---+---+---\n",
      "   | O |  \n",
      "\n",
      "Minimax AI took 0.0000 seconds to make a move\n",
      "\n",
      " O | X | O\n",
      "---+---+---\n",
      " X | X | O\n",
      "---+---+---\n",
      "   | O | X\n",
      "\n"
     ]
    },
    {
     "name": "stdin",
     "output_type": "stream",
     "text": [
      "Enter your move (0-8):  6\n"
     ]
    },
    {
     "name": "stdout",
     "output_type": "stream",
     "text": [
      "\n",
      " O | X | O\n",
      "---+---+---\n",
      " X | X | O\n",
      "---+---+---\n",
      " O | O | X\n",
      "\n",
      "Minimax AI took 0.0000 seconds to make a move\n",
      "\n",
      " O | X | O\n",
      "---+---+---\n",
      " X | X | O\n",
      "---+---+---\n",
      " O | O | X\n",
      "\n",
      "It's a draw!\n"
     ]
    }
   ],
   "source": [
    "import time\n",
    "\n",
    "board = [' ' for _ in range(9)]\n",
    "\n",
    "def print_board():\n",
    "    print()\n",
    "    for i in range(3):\n",
    "        print(' ' + ' | '.join(board[i*3:(i+1)*3]))\n",
    "        if i < 2:\n",
    "            print(\"---+---+---\")\n",
    "    print()\n",
    "\n",
    "def check_winner(b, player):\n",
    "    win_conditions = [(0,1,2), (3,4,5), (6,7,8), \n",
    "                      (0,3,6), (1,4,7), (2,5,8),\n",
    "                      (0,4,8), (2,4,6)]\n",
    "    for (i, j, k) in win_conditions:\n",
    "        if b[i] == b[j] == b[k] == player:\n",
    "            return True\n",
    "    return False\n",
    "\n",
    "def evaluate(board):\n",
    "    if check_winner(board, 'X'):\n",
    "        return 1\n",
    "    elif check_winner(board, 'O'):\n",
    "        return -1\n",
    "    elif ' ' not in board:\n",
    "        return 0\n",
    "    return None\n",
    "\n",
    "def generate_moves(board, player):\n",
    "    return [board[:i] + [player] + board[i+1:] for i in range(9) if board[i] == ' ']\n",
    "\n",
    "def minimax(board, depth, is_maximizing):\n",
    "    score = evaluate(board)\n",
    "    if score is not None:\n",
    "        return score\n",
    "\n",
    "    if is_maximizing:\n",
    "        best = float('-inf')\n",
    "        for move in generate_moves(board, 'X'):\n",
    "            best = max(best, minimax(move, depth + 1, False))\n",
    "        return best\n",
    "    else:\n",
    "        best = float('inf')\n",
    "        for move in generate_moves(board, 'O'):\n",
    "            best = min(best, minimax(move, depth + 1, True))\n",
    "        return best\n",
    "\n",
    "def ai_move():\n",
    "    start_time = time.time()\n",
    "\n",
    "    best_val = float('-inf')\n",
    "    best_move = -1\n",
    "    for i in range(9):\n",
    "        if board[i] == ' ':\n",
    "            board[i] = 'X'\n",
    "            move_val = minimax(board, 0, False)\n",
    "            board[i] = ' '\n",
    "            if move_val > best_val:\n",
    "                best_val = move_val\n",
    "                best_move = i\n",
    "    board[best_move] = 'X'\n",
    "\n",
    "    end_time = time.time()\n",
    "    print(f\"Minimax AI took {end_time - start_time:.4f} seconds to make a move\")\n",
    "\n",
    "def play_game():\n",
    "    print_board()\n",
    "    while True:\n",
    "        move = int(input(\"Enter your move (0-8): \"))\n",
    "        if board[move] == ' ':\n",
    "            board[move] = 'O'\n",
    "        else:\n",
    "            print(\"Invalid move. Try again.\")\n",
    "            continue\n",
    "\n",
    "        print_board()\n",
    "        if check_winner(board, 'O'):\n",
    "            print(\"Player wins!\")\n",
    "            break\n",
    "\n",
    "        ai_move()\n",
    "        print_board()\n",
    "        if check_winner(board, 'X'):\n",
    "            print(\"AI wins!\")\n",
    "            break\n",
    "\n",
    "        if ' ' not in board:\n",
    "            print(\"It's a draw!\")\n",
    "            break\n",
    "\n",
    "play_game()"
   ]
  },
  {
   "cell_type": "code",
   "execution_count": 4,
   "id": "c8e80314-6e16-4adb-99d9-fe3ab5e8ede7",
   "metadata": {},
   "outputs": [
    {
     "name": "stdout",
     "output_type": "stream",
     "text": [
      "\n",
      "   |   |  \n",
      "---+---+---\n",
      "   |   |  \n",
      "---+---+---\n",
      "   |   |  \n",
      "\n"
     ]
    },
    {
     "name": "stdin",
     "output_type": "stream",
     "text": [
      "Enter your move (0-8):  0\n"
     ]
    },
    {
     "name": "stdout",
     "output_type": "stream",
     "text": [
      "\n",
      " O |   |  \n",
      "---+---+---\n",
      "   |   |  \n",
      "---+---+---\n",
      "   |   |  \n",
      "\n",
      "Alpha-Beta AI took 0.0149 seconds to make a move\n",
      "\n",
      " O |   |  \n",
      "---+---+---\n",
      "   | X |  \n",
      "---+---+---\n",
      "   |   |  \n",
      "\n"
     ]
    },
    {
     "name": "stdin",
     "output_type": "stream",
     "text": [
      "Enter your move (0-8):  2\n"
     ]
    },
    {
     "name": "stdout",
     "output_type": "stream",
     "text": [
      "\n",
      " O |   | O\n",
      "---+---+---\n",
      "   | X |  \n",
      "---+---+---\n",
      "   |   |  \n",
      "\n",
      "Alpha-Beta AI took 0.0010 seconds to make a move\n",
      "\n",
      " O | X | O\n",
      "---+---+---\n",
      "   | X |  \n",
      "---+---+---\n",
      "   |   |  \n",
      "\n"
     ]
    },
    {
     "name": "stdin",
     "output_type": "stream",
     "text": [
      "Enter your move (0-8):  7\n"
     ]
    },
    {
     "name": "stdout",
     "output_type": "stream",
     "text": [
      "\n",
      " O | X | O\n",
      "---+---+---\n",
      "   | X |  \n",
      "---+---+---\n",
      "   | O |  \n",
      "\n",
      "Alpha-Beta AI took 0.0000 seconds to make a move\n",
      "\n",
      " O | X | O\n",
      "---+---+---\n",
      " X | X |  \n",
      "---+---+---\n",
      "   | O |  \n",
      "\n"
     ]
    },
    {
     "name": "stdin",
     "output_type": "stream",
     "text": [
      "Enter your move (0-8):  5\n"
     ]
    },
    {
     "name": "stdout",
     "output_type": "stream",
     "text": [
      "\n",
      " O | X | O\n",
      "---+---+---\n",
      " X | X | O\n",
      "---+---+---\n",
      "   | O |  \n",
      "\n",
      "Alpha-Beta AI took 0.0000 seconds to make a move\n",
      "\n",
      " O | X | O\n",
      "---+---+---\n",
      " X | X | O\n",
      "---+---+---\n",
      "   | O | X\n",
      "\n"
     ]
    },
    {
     "name": "stdin",
     "output_type": "stream",
     "text": [
      "Enter your move (0-8):  6\n"
     ]
    },
    {
     "name": "stdout",
     "output_type": "stream",
     "text": [
      "\n",
      " O | X | O\n",
      "---+---+---\n",
      " X | X | O\n",
      "---+---+---\n",
      " O | O | X\n",
      "\n",
      "Alpha-Beta AI took 0.0000 seconds to make a move\n",
      "\n",
      " O | X | O\n",
      "---+---+---\n",
      " X | X | O\n",
      "---+---+---\n",
      " O | O | X\n",
      "\n",
      "It's a draw!\n"
     ]
    }
   ],
   "source": [
    "import time\n",
    "\n",
    "board = [' ' for _ in range(9)]\n",
    "\n",
    "def print_board():\n",
    "    print()\n",
    "    for i in range(3):\n",
    "        print(' ' + ' | '.join(board[i*3:(i+1)*3]))\n",
    "        if i < 2:\n",
    "            print(\"---+---+---\")\n",
    "    print()\n",
    "\n",
    "def check_winner(b, player):\n",
    "    win_conditions = [(0,1,2), (3,4,5), (6,7,8), \n",
    "                      (0,3,6), (1,4,7), (2,5,8),\n",
    "                      (0,4,8), (2,4,6)]\n",
    "    for (i, j, k) in win_conditions:\n",
    "        if b[i] == b[j] == b[k] == player:\n",
    "            return True\n",
    "    return False\n",
    "\n",
    "def evaluate(board):\n",
    "    if check_winner(board, 'X'):\n",
    "        return 1\n",
    "    elif check_winner(board, 'O'):\n",
    "        return -1\n",
    "    elif ' ' not in board:\n",
    "        return 0\n",
    "    return None\n",
    "\n",
    "def generate_moves(board, player):\n",
    "    return [board[:i] + [player] + board[i+1:] for i in range(9) if board[i] == ' ']\n",
    "\n",
    "def alphabeta(board, depth, alpha, beta, is_maximizing):\n",
    "    score = evaluate(board)\n",
    "    if score is not None:\n",
    "        return score\n",
    "\n",
    "    if is_maximizing:\n",
    "        max_eval = float('-inf')\n",
    "        for move in generate_moves(board, 'X'):\n",
    "            eval = alphabeta(move, depth + 1, alpha, beta, False)\n",
    "            max_eval = max(max_eval, eval)\n",
    "            alpha = max(alpha, eval)\n",
    "            if beta <= alpha:\n",
    "                break\n",
    "        return max_eval\n",
    "    else:\n",
    "        min_eval = float('inf')\n",
    "        for move in generate_moves(board, 'O'):\n",
    "            eval = alphabeta(move, depth + 1, alpha, beta, True)\n",
    "            min_eval = min(min_eval, eval)\n",
    "            beta = min(beta, eval)\n",
    "            if beta <= alpha:\n",
    "                break\n",
    "        return min_eval\n",
    "\n",
    "def ai_move_ab():\n",
    "    start_time = time.time()\n",
    "\n",
    "    best_val = float('-inf')\n",
    "    best_move = -1\n",
    "    for i in range(9):\n",
    "        if board[i] == ' ':\n",
    "            board[i] = 'X'\n",
    "            move_val = alphabeta(board, 0, float('-inf'), float('inf'), False)\n",
    "            board[i] = ' '\n",
    "            if move_val > best_val:\n",
    "                best_val = move_val\n",
    "                best_move = i\n",
    "    board[best_move] = 'X'\n",
    "\n",
    "    end_time = time.time()\n",
    "    print(f\"Alpha-Beta AI took {end_time - start_time:.4f} seconds to make a move\")\n",
    "\n",
    "def play_game():\n",
    "    print_board()\n",
    "    while True:\n",
    "        move = int(input(\"Enter your move (0-8): \"))\n",
    "        if board[move] == ' ':\n",
    "            board[move] = 'O'\n",
    "        else:\n",
    "            print(\"Invalid move. Try again.\")\n",
    "            continue\n",
    "\n",
    "        print_board()\n",
    "        if check_winner(board, 'O'):\n",
    "            print(\"Player wins!\")\n",
    "            break\n",
    "\n",
    "        ai_move_ab()\n",
    "        print_board()\n",
    "        if check_winner(board, 'X'):\n",
    "            print(\"AI wins!\")\n",
    "            break\n",
    "\n",
    "        if ' ' not in board:\n",
    "            print(\"It's a draw!\")\n",
    "            break\n",
    "\n",
    "play_game()"
   ]
  }
 ],
 "metadata": {
  "kernelspec": {
   "display_name": "Python 3 (ipykernel)",
   "language": "python",
   "name": "python3"
  },
  "language_info": {
   "codemirror_mode": {
    "name": "ipython",
    "version": 3
   },
   "file_extension": ".py",
   "mimetype": "text/x-python",
   "name": "python",
   "nbconvert_exporter": "python",
   "pygments_lexer": "ipython3",
   "version": "3.12.7"
  }
 },
 "nbformat": 4,
 "nbformat_minor": 5
}
